{
 "cells": [
  {
   "cell_type": "code",
   "execution_count": 1,
   "id": "0cf2fd53",
   "metadata": {},
   "outputs": [
    {
     "data": {
      "text/plain": [
       "0.88"
      ]
     },
     "execution_count": 1,
     "metadata": {},
     "output_type": "execute_result"
    }
   ],
   "source": [
    "28/2^5.n(digits=1)"
   ]
  },
  {
   "cell_type": "code",
   "execution_count": 2,
   "id": "7dae020d",
   "metadata": {},
   "outputs": [
    {
     "data": {
      "text/plain": [
       "1.4"
      ]
     },
     "execution_count": 2,
     "metadata": {},
     "output_type": "execute_result"
    }
   ],
   "source": [
    "sqrt(2).n(digits=1)"
   ]
  },
  {
   "cell_type": "code",
   "execution_count": 3,
   "id": "30c71c8a",
   "metadata": {},
   "outputs": [
    {
     "data": {
      "text/plain": [
       "51"
      ]
     },
     "execution_count": 3,
     "metadata": {},
     "output_type": "execute_result"
    }
   ],
   "source": [
    "log(2153693963075557766310747,3)"
   ]
  },
  {
   "cell_type": "code",
   "execution_count": 4,
   "id": "2e8ff1eb",
   "metadata": {},
   "outputs": [
    {
     "data": {
      "text/plain": [
       "2.7182818284590452353602874713526624977572470937000"
      ]
     },
     "execution_count": 4,
     "metadata": {},
     "output_type": "execute_result"
    }
   ],
   "source": [
    "e.n(digits=50)"
   ]
  },
  {
   "cell_type": "code",
   "execution_count": 5,
   "id": "528c55af",
   "metadata": {},
   "outputs": [
    {
     "data": {
      "text/plain": [
       "3.1415926535897932384626433832795028841971693993751058209749445923078164062862090"
      ]
     },
     "execution_count": 5,
     "metadata": {},
     "output_type": "execute_result"
    }
   ],
   "source": [
    "π.n(digits=80)"
   ]
  },
  {
   "cell_type": "code",
   "execution_count": 6,
   "id": "ad86ad54",
   "metadata": {},
   "outputs": [
    {
     "data": {
      "text/plain": [
       "9"
      ]
     },
     "execution_count": 6,
     "metadata": {},
     "output_type": "execute_result"
    }
   ],
   "source": [
    "956//98"
   ]
  },
  {
   "cell_type": "code",
   "execution_count": 7,
   "id": "fe7009a5",
   "metadata": {},
   "outputs": [
    {
     "data": {
      "text/plain": [
       "74"
      ]
     },
     "execution_count": 7,
     "metadata": {},
     "output_type": "execute_result"
    }
   ],
   "source": [
    "956%98"
   ]
  },
  {
   "cell_type": "code",
   "execution_count": 8,
   "id": "0f463661",
   "metadata": {},
   "outputs": [
    {
     "data": {
      "text/plain": [
       "956"
      ]
     },
     "execution_count": 8,
     "metadata": {},
     "output_type": "execute_result"
    }
   ],
   "source": [
    "98*9+74"
   ]
  },
  {
   "cell_type": "code",
   "execution_count": 9,
   "id": "859c9061",
   "metadata": {},
   "outputs": [
    {
     "data": {
      "text/plain": [
       "234878/3"
      ]
     },
     "execution_count": 9,
     "metadata": {},
     "output_type": "execute_result"
    }
   ],
   "source": [
    "234878/3"
   ]
  },
  {
   "cell_type": "code",
   "execution_count": 10,
   "id": "d8fdbc9b",
   "metadata": {},
   "outputs": [
    {
     "data": {
      "text/plain": [
       "[1, 2, 67, 134]"
      ]
     },
     "execution_count": 10,
     "metadata": {},
     "output_type": "execute_result"
    }
   ],
   "source": [
    "divisors(134)"
   ]
  },
  {
   "cell_type": "code",
   "execution_count": 11,
   "id": "b8c9183b",
   "metadata": {},
   "outputs": [
    {
     "data": {
      "text/plain": [
       "[1, 491]"
      ]
     },
     "execution_count": 11,
     "metadata": {},
     "output_type": "execute_result"
    }
   ],
   "source": [
    "divisors(491)"
   ]
  },
  {
   "cell_type": "code",
   "execution_count": 12,
   "id": "0d0da55f",
   "metadata": {},
   "outputs": [
    {
     "data": {
      "text/plain": [
       "[1, 2, 211, 422]"
      ]
     },
     "execution_count": 12,
     "metadata": {},
     "output_type": "execute_result"
    }
   ],
   "source": [
    "divisors(422)"
   ]
  },
  {
   "cell_type": "code",
   "execution_count": 13,
   "id": "fc22e325",
   "metadata": {},
   "outputs": [
    {
     "data": {
      "text/plain": [
       "[1, 2, 3, 6, 167, 334, 501, 1002]"
      ]
     },
     "execution_count": 13,
     "metadata": {},
     "output_type": "execute_result"
    }
   ],
   "source": [
    "divisors(1002)"
   ]
  },
  {
   "cell_type": "code",
   "execution_count": 14,
   "id": "98283c92",
   "metadata": {},
   "outputs": [
    {
     "data": {
      "text/plain": [
       "4"
      ]
     },
     "execution_count": 14,
     "metadata": {},
     "output_type": "execute_result"
    }
   ],
   "source": [
    "number_of_divisors(134)"
   ]
  },
  {
   "cell_type": "code",
   "execution_count": 15,
   "id": "d444c7cc",
   "metadata": {},
   "outputs": [
    {
     "data": {
      "text/plain": [
       "2"
      ]
     },
     "execution_count": 15,
     "metadata": {},
     "output_type": "execute_result"
    }
   ],
   "source": [
    "number_of_divisors(491)"
   ]
  },
  {
   "cell_type": "code",
   "execution_count": 16,
   "id": "8ae1dc67",
   "metadata": {},
   "outputs": [
    {
     "data": {
      "text/plain": [
       "4"
      ]
     },
     "execution_count": 16,
     "metadata": {},
     "output_type": "execute_result"
    }
   ],
   "source": [
    "number_of_divisors(422)"
   ]
  },
  {
   "cell_type": "code",
   "execution_count": 17,
   "id": "74c395ce",
   "metadata": {},
   "outputs": [
    {
     "data": {
      "text/plain": [
       "8"
      ]
     },
     "execution_count": 17,
     "metadata": {},
     "output_type": "execute_result"
    }
   ],
   "source": [
    "number_of_divisors(1002)"
   ]
  },
  {
   "cell_type": "code",
   "execution_count": 18,
   "id": "dcb44f22",
   "metadata": {},
   "outputs": [
    {
     "data": {
      "text/plain": [
       "1"
      ]
     },
     "execution_count": 18,
     "metadata": {},
     "output_type": "execute_result"
    }
   ],
   "source": [
    "2.gcd(5)"
   ]
  },
  {
   "cell_type": "code",
   "execution_count": 19,
   "id": "40d29873",
   "metadata": {},
   "outputs": [
    {
     "data": {
      "text/plain": [
       "2"
      ]
     },
     "execution_count": 19,
     "metadata": {},
     "output_type": "execute_result"
    }
   ],
   "source": [
    "4.gcd(10)"
   ]
  },
  {
   "cell_type": "code",
   "execution_count": 20,
   "id": "47aa743e",
   "metadata": {},
   "outputs": [
    {
     "data": {
      "text/plain": [
       "3"
      ]
     },
     "execution_count": 20,
     "metadata": {},
     "output_type": "execute_result"
    }
   ],
   "source": [
    "18.gcd(51)"
   ]
  },
  {
   "cell_type": "code",
   "execution_count": 21,
   "id": "50ef6b68",
   "metadata": {},
   "outputs": [
    {
     "data": {
      "text/plain": [
       "10"
      ]
     },
     "execution_count": 21,
     "metadata": {},
     "output_type": "execute_result"
    }
   ],
   "source": [
    "2.lcm(5)"
   ]
  },
  {
   "cell_type": "code",
   "execution_count": 22,
   "id": "90f61bac",
   "metadata": {},
   "outputs": [
    {
     "data": {
      "text/plain": [
       "20"
      ]
     },
     "execution_count": 22,
     "metadata": {},
     "output_type": "execute_result"
    }
   ],
   "source": [
    "4.lcm(10)"
   ]
  },
  {
   "cell_type": "code",
   "execution_count": 23,
   "id": "5dd157ca",
   "metadata": {},
   "outputs": [
    {
     "data": {
      "text/plain": [
       "306"
      ]
     },
     "execution_count": 23,
     "metadata": {},
     "output_type": "execute_result"
    }
   ],
   "source": [
    "18.lcm(51)"
   ]
  },
  {
   "cell_type": "code",
   "execution_count": null,
   "id": "0b75e36e",
   "metadata": {},
   "outputs": [],
   "source": []
  }
 ],
 "metadata": {
  "kernelspec": {
   "display_name": "SageMath 9.7",
   "language": "sage",
   "name": "sagemath-9.7"
  },
  "language_info": {
   "codemirror_mode": {
    "name": "ipython",
    "version": 3
   },
   "file_extension": ".py",
   "mimetype": "text/x-python",
   "name": "python",
   "nbconvert_exporter": "python",
   "pygments_lexer": "ipython3",
   "version": "3.10.5"
  }
 },
 "nbformat": 4,
 "nbformat_minor": 5
}
